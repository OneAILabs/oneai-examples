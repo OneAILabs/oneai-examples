{
 "cells": [
  {
   "cell_type": "code",
   "execution_count": 1,
   "id": "076e9059-8882-4ce3-9734-79f9ef6aa79a",
   "metadata": {},
   "outputs": [
    {
     "name": "stdout",
     "output_type": "stream",
     "text": [
      "Requirement already satisfied: yfinance in /opt/conda/lib/python3.9/site-packages (0.1.74)\n",
      "Requirement already satisfied: lxml>=4.5.1 in /opt/conda/lib/python3.9/site-packages (from yfinance) (4.9.1)\n",
      "Requirement already satisfied: multitasking>=0.0.7 in /opt/conda/lib/python3.9/site-packages (from yfinance) (0.0.11)\n",
      "Requirement already satisfied: pandas>=0.24.0 in /opt/conda/lib/python3.9/site-packages (from yfinance) (1.3.4)\n",
      "Requirement already satisfied: requests>=2.26 in /opt/conda/lib/python3.9/site-packages (from yfinance) (2.26.0)\n",
      "Requirement already satisfied: numpy>=1.15 in /opt/conda/lib/python3.9/site-packages (from yfinance) (1.20.3)\n",
      "Requirement already satisfied: python-dateutil>=2.7.3 in /opt/conda/lib/python3.9/site-packages (from pandas>=0.24.0->yfinance) (2.8.2)\n",
      "Requirement already satisfied: pytz>=2017.3 in /opt/conda/lib/python3.9/site-packages (from pandas>=0.24.0->yfinance) (2021.3)\n",
      "Requirement already satisfied: charset-normalizer~=2.0.0 in /opt/conda/lib/python3.9/site-packages (from requests>=2.26->yfinance) (2.0.0)\n",
      "Requirement already satisfied: urllib3<1.27,>=1.21.1 in /opt/conda/lib/python3.9/site-packages (from requests>=2.26->yfinance) (1.26.7)\n",
      "Requirement already satisfied: certifi>=2017.4.17 in /opt/conda/lib/python3.9/site-packages (from requests>=2.26->yfinance) (2021.10.8)\n",
      "Requirement already satisfied: idna<4,>=2.5 in /opt/conda/lib/python3.9/site-packages (from requests>=2.26->yfinance) (3.1)\n",
      "Requirement already satisfied: six>=1.5 in /opt/conda/lib/python3.9/site-packages (from python-dateutil>=2.7.3->pandas>=0.24.0->yfinance) (1.16.0)\n",
      "Requirement already satisfied: tensorflow in /opt/conda/lib/python3.9/site-packages (2.9.2)\n",
      "Requirement already satisfied: tensorflow-io-gcs-filesystem>=0.23.1 in /opt/conda/lib/python3.9/site-packages (from tensorflow) (0.26.0)\n",
      "Requirement already satisfied: protobuf<3.20,>=3.9.2 in /opt/conda/lib/python3.9/site-packages (from tensorflow) (3.18.1)\n",
      "Requirement already satisfied: packaging in /opt/conda/lib/python3.9/site-packages (from tensorflow) (21.0)\n",
      "Requirement already satisfied: gast<=0.4.0,>=0.2.1 in /opt/conda/lib/python3.9/site-packages (from tensorflow) (0.4.0)\n",
      "Requirement already satisfied: termcolor>=1.1.0 in /opt/conda/lib/python3.9/site-packages (from tensorflow) (1.1.0)\n",
      "Requirement already satisfied: tensorboard<2.10,>=2.9 in /opt/conda/lib/python3.9/site-packages (from tensorflow) (2.9.1)\n",
      "Requirement already satisfied: h5py>=2.9.0 in /opt/conda/lib/python3.9/site-packages (from tensorflow) (3.4.0)\n",
      "Requirement already satisfied: google-pasta>=0.1.1 in /opt/conda/lib/python3.9/site-packages (from tensorflow) (0.2.0)\n",
      "Requirement already satisfied: typing-extensions>=3.6.6 in /opt/conda/lib/python3.9/site-packages (from tensorflow) (3.10.0.2)\n",
      "Requirement already satisfied: tensorflow-estimator<2.10.0,>=2.9.0rc0 in /opt/conda/lib/python3.9/site-packages (from tensorflow) (2.9.0)\n",
      "Requirement already satisfied: numpy>=1.20 in /opt/conda/lib/python3.9/site-packages (from tensorflow) (1.20.3)\n",
      "Requirement already satisfied: absl-py>=1.0.0 in /opt/conda/lib/python3.9/site-packages (from tensorflow) (1.0.0)\n",
      "Requirement already satisfied: setuptools in /opt/conda/lib/python3.9/site-packages (from tensorflow) (58.2.0)\n",
      "Requirement already satisfied: astunparse>=1.6.0 in /opt/conda/lib/python3.9/site-packages (from tensorflow) (1.6.3)\n",
      "Requirement already satisfied: six>=1.12.0 in /opt/conda/lib/python3.9/site-packages (from tensorflow) (1.16.0)\n",
      "Requirement already satisfied: wrapt>=1.11.0 in /opt/conda/lib/python3.9/site-packages (from tensorflow) (1.12.1)\n",
      "Requirement already satisfied: flatbuffers<2,>=1.12 in /opt/conda/lib/python3.9/site-packages (from tensorflow) (1.12)\n",
      "Requirement already satisfied: keras<2.10.0,>=2.9.0rc0 in /opt/conda/lib/python3.9/site-packages (from tensorflow) (2.9.0)\n",
      "Requirement already satisfied: keras-preprocessing>=1.1.1 in /opt/conda/lib/python3.9/site-packages (from tensorflow) (1.1.2)\n",
      "Requirement already satisfied: grpcio<2.0,>=1.24.3 in /opt/conda/lib/python3.9/site-packages (from tensorflow) (1.48.1)\n",
      "Requirement already satisfied: opt-einsum>=2.3.2 in /opt/conda/lib/python3.9/site-packages (from tensorflow) (3.3.0)\n",
      "Requirement already satisfied: libclang>=13.0.0 in /opt/conda/lib/python3.9/site-packages (from tensorflow) (14.0.6)\n",
      "Requirement already satisfied: wheel<1.0,>=0.23.0 in /opt/conda/lib/python3.9/site-packages (from astunparse>=1.6.0->tensorflow) (0.37.0)\n",
      "Requirement already satisfied: requests<3,>=2.21.0 in /opt/conda/lib/python3.9/site-packages (from tensorboard<2.10,>=2.9->tensorflow) (2.26.0)\n",
      "Requirement already satisfied: google-auth-oauthlib<0.5,>=0.4.1 in /opt/conda/lib/python3.9/site-packages (from tensorboard<2.10,>=2.9->tensorflow) (0.4.6)\n",
      "Requirement already satisfied: tensorboard-plugin-wit>=1.6.0 in /opt/conda/lib/python3.9/site-packages (from tensorboard<2.10,>=2.9->tensorflow) (1.8.1)\n",
      "Requirement already satisfied: tensorboard-data-server<0.7.0,>=0.6.0 in /opt/conda/lib/python3.9/site-packages (from tensorboard<2.10,>=2.9->tensorflow) (0.6.1)\n",
      "Requirement already satisfied: werkzeug>=1.0.1 in /opt/conda/lib/python3.9/site-packages (from tensorboard<2.10,>=2.9->tensorflow) (2.2.2)\n",
      "Requirement already satisfied: google-auth<3,>=1.6.3 in /opt/conda/lib/python3.9/site-packages (from tensorboard<2.10,>=2.9->tensorflow) (1.35.0)\n",
      "Requirement already satisfied: markdown>=2.6.8 in /opt/conda/lib/python3.9/site-packages (from tensorboard<2.10,>=2.9->tensorflow) (3.4.1)\n",
      "Requirement already satisfied: pyparsing>=2.0.2 in /opt/conda/lib/python3.9/site-packages (from packaging->tensorflow) (2.4.7)\n",
      "Requirement already satisfied: rsa<5,>=3.1.4 in /opt/conda/lib/python3.9/site-packages (from google-auth<3,>=1.6.3->tensorboard<2.10,>=2.9->tensorflow) (4.8)\n",
      "Requirement already satisfied: pyasn1-modules>=0.2.1 in /opt/conda/lib/python3.9/site-packages (from google-auth<3,>=1.6.3->tensorboard<2.10,>=2.9->tensorflow) (0.2.8)\n",
      "Requirement already satisfied: cachetools<5.0,>=2.0.0 in /opt/conda/lib/python3.9/site-packages (from google-auth<3,>=1.6.3->tensorboard<2.10,>=2.9->tensorflow) (4.2.4)\n",
      "Requirement already satisfied: requests-oauthlib>=0.7.0 in /opt/conda/lib/python3.9/site-packages (from google-auth-oauthlib<0.5,>=0.4.1->tensorboard<2.10,>=2.9->tensorflow) (1.3.1)\n",
      "Requirement already satisfied: importlib-metadata>=4.4 in /opt/conda/lib/python3.9/site-packages (from markdown>=2.6.8->tensorboard<2.10,>=2.9->tensorflow) (4.8.1)\n",
      "Requirement already satisfied: urllib3<1.27,>=1.21.1 in /opt/conda/lib/python3.9/site-packages (from requests<3,>=2.21.0->tensorboard<2.10,>=2.9->tensorflow) (1.26.7)\n",
      "Requirement already satisfied: charset-normalizer~=2.0.0 in /opt/conda/lib/python3.9/site-packages (from requests<3,>=2.21.0->tensorboard<2.10,>=2.9->tensorflow) (2.0.0)\n",
      "Requirement already satisfied: certifi>=2017.4.17 in /opt/conda/lib/python3.9/site-packages (from requests<3,>=2.21.0->tensorboard<2.10,>=2.9->tensorflow) (2021.10.8)\n",
      "Requirement already satisfied: idna<4,>=2.5 in /opt/conda/lib/python3.9/site-packages (from requests<3,>=2.21.0->tensorboard<2.10,>=2.9->tensorflow) (3.1)\n",
      "Requirement already satisfied: MarkupSafe>=2.1.1 in /opt/conda/lib/python3.9/site-packages (from werkzeug>=1.0.1->tensorboard<2.10,>=2.9->tensorflow) (2.1.1)\n",
      "Requirement already satisfied: zipp>=0.5 in /opt/conda/lib/python3.9/site-packages (from importlib-metadata>=4.4->markdown>=2.6.8->tensorboard<2.10,>=2.9->tensorflow) (3.6.0)\n",
      "Requirement already satisfied: pyasn1<0.5.0,>=0.4.6 in /opt/conda/lib/python3.9/site-packages (from pyasn1-modules>=0.2.1->google-auth<3,>=1.6.3->tensorboard<2.10,>=2.9->tensorflow) (0.4.8)\n",
      "Requirement already satisfied: oauthlib>=3.0.0 in /opt/conda/lib/python3.9/site-packages (from requests-oauthlib>=0.7.0->google-auth-oauthlib<0.5,>=0.4.1->tensorboard<2.10,>=2.9->tensorflow) (3.1.1)\n"
     ]
    }
   ],
   "source": [
    "!pip install yfinance\n",
    "!pip install tensorflow"
   ]
  },
  {
   "cell_type": "code",
   "execution_count": 34,
   "id": "e7a989bf-c328-4243-adbd-5492386e18ee",
   "metadata": {},
   "outputs": [],
   "source": [
    "import yfinance as yf\n",
    "import os\n",
    "import numpy as np\n",
    "import matplotlib.pyplot as plt\n",
    "import pandas as pd\n",
    "from sklearn.preprocessing import MinMaxScaler\n",
    "from tensorflow.keras.models import Sequential\n",
    "from tensorflow.keras.layers import LSTM\n",
    "from tensorflow.keras.layers import Dense\n",
    "from tensorflow.keras.layers import Dropout\n",
    "import mlflow\n",
    "import mlflow.keras"
   ]
  },
  {
   "cell_type": "code",
   "execution_count": 12,
   "id": "732c0540-98cd-42b3-8428-f6f8c37dd323",
   "metadata": {},
   "outputs": [
    {
     "data": {
      "text/html": [
       "<div>\n",
       "<style scoped>\n",
       "    .dataframe tbody tr th:only-of-type {\n",
       "        vertical-align: middle;\n",
       "    }\n",
       "\n",
       "    .dataframe tbody tr th {\n",
       "        vertical-align: top;\n",
       "    }\n",
       "\n",
       "    .dataframe thead th {\n",
       "        text-align: right;\n",
       "    }\n",
       "</style>\n",
       "<table border=\"1\" class=\"dataframe\">\n",
       "  <thead>\n",
       "    <tr style=\"text-align: right;\">\n",
       "      <th></th>\n",
       "      <th>Open</th>\n",
       "      <th>High</th>\n",
       "      <th>Low</th>\n",
       "      <th>Close</th>\n",
       "      <th>Volume</th>\n",
       "      <th>Dividends</th>\n",
       "      <th>Stock Splits</th>\n",
       "    </tr>\n",
       "    <tr>\n",
       "      <th>Date</th>\n",
       "      <th></th>\n",
       "      <th></th>\n",
       "      <th></th>\n",
       "      <th></th>\n",
       "      <th></th>\n",
       "      <th></th>\n",
       "      <th></th>\n",
       "    </tr>\n",
       "  </thead>\n",
       "  <tbody>\n",
       "    <tr>\n",
       "      <th>1999-12-31</th>\n",
       "      <td>8.861640</td>\n",
       "      <td>9.023667</td>\n",
       "      <td>8.836713</td>\n",
       "      <td>8.973812</td>\n",
       "      <td>428125</td>\n",
       "      <td>0.0</td>\n",
       "      <td>0.0</td>\n",
       "    </tr>\n",
       "    <tr>\n",
       "      <th>2000-01-03</th>\n",
       "      <td>9.422507</td>\n",
       "      <td>9.472361</td>\n",
       "      <td>9.185698</td>\n",
       "      <td>9.447433</td>\n",
       "      <td>2062807</td>\n",
       "      <td>0.0</td>\n",
       "      <td>0.0</td>\n",
       "    </tr>\n",
       "    <tr>\n",
       "      <th>2000-01-04</th>\n",
       "      <td>9.447431</td>\n",
       "      <td>9.821341</td>\n",
       "      <td>9.422504</td>\n",
       "      <td>9.509749</td>\n",
       "      <td>2557142</td>\n",
       "      <td>0.0</td>\n",
       "      <td>0.0</td>\n",
       "    </tr>\n",
       "    <tr>\n",
       "      <th>2000-01-05</th>\n",
       "      <td>9.596995</td>\n",
       "      <td>9.659313</td>\n",
       "      <td>9.509749</td>\n",
       "      <td>9.572068</td>\n",
       "      <td>2295467</td>\n",
       "      <td>0.0</td>\n",
       "      <td>0.0</td>\n",
       "    </tr>\n",
       "    <tr>\n",
       "      <th>2000-01-06</th>\n",
       "      <td>9.347722</td>\n",
       "      <td>9.360186</td>\n",
       "      <td>8.973813</td>\n",
       "      <td>9.173231</td>\n",
       "      <td>1539456</td>\n",
       "      <td>0.0</td>\n",
       "      <td>0.0</td>\n",
       "    </tr>\n",
       "    <tr>\n",
       "      <th>...</th>\n",
       "      <td>...</td>\n",
       "      <td>...</td>\n",
       "      <td>...</td>\n",
       "      <td>...</td>\n",
       "      <td>...</td>\n",
       "      <td>...</td>\n",
       "      <td>...</td>\n",
       "    </tr>\n",
       "    <tr>\n",
       "      <th>2022-08-29</th>\n",
       "      <td>83.910004</td>\n",
       "      <td>84.320000</td>\n",
       "      <td>82.779999</td>\n",
       "      <td>82.849998</td>\n",
       "      <td>9639700</td>\n",
       "      <td>0.0</td>\n",
       "      <td>0.0</td>\n",
       "    </tr>\n",
       "    <tr>\n",
       "      <th>2022-08-30</th>\n",
       "      <td>83.779999</td>\n",
       "      <td>83.980003</td>\n",
       "      <td>81.730003</td>\n",
       "      <td>82.790001</td>\n",
       "      <td>8392300</td>\n",
       "      <td>0.0</td>\n",
       "      <td>0.0</td>\n",
       "    </tr>\n",
       "    <tr>\n",
       "      <th>2022-08-31</th>\n",
       "      <td>84.110001</td>\n",
       "      <td>84.870003</td>\n",
       "      <td>83.059998</td>\n",
       "      <td>83.349998</td>\n",
       "      <td>8887100</td>\n",
       "      <td>0.0</td>\n",
       "      <td>0.0</td>\n",
       "    </tr>\n",
       "    <tr>\n",
       "      <th>2022-09-01</th>\n",
       "      <td>81.449997</td>\n",
       "      <td>81.830002</td>\n",
       "      <td>80.120003</td>\n",
       "      <td>81.639999</td>\n",
       "      <td>11566000</td>\n",
       "      <td>0.0</td>\n",
       "      <td>0.0</td>\n",
       "    </tr>\n",
       "    <tr>\n",
       "      <th>2022-09-02</th>\n",
       "      <td>81.550003</td>\n",
       "      <td>82.980003</td>\n",
       "      <td>80.610001</td>\n",
       "      <td>80.900002</td>\n",
       "      <td>8846800</td>\n",
       "      <td>0.0</td>\n",
       "      <td>0.0</td>\n",
       "    </tr>\n",
       "  </tbody>\n",
       "</table>\n",
       "<p>5706 rows × 7 columns</p>\n",
       "</div>"
      ],
      "text/plain": [
       "                 Open       High        Low      Close    Volume  Dividends  \\\n",
       "Date                                                                          \n",
       "1999-12-31   8.861640   9.023667   8.836713   8.973812    428125        0.0   \n",
       "2000-01-03   9.422507   9.472361   9.185698   9.447433   2062807        0.0   \n",
       "2000-01-04   9.447431   9.821341   9.422504   9.509749   2557142        0.0   \n",
       "2000-01-05   9.596995   9.659313   9.509749   9.572068   2295467        0.0   \n",
       "2000-01-06   9.347722   9.360186   8.973813   9.173231   1539456        0.0   \n",
       "...               ...        ...        ...        ...       ...        ...   \n",
       "2022-08-29  83.910004  84.320000  82.779999  82.849998   9639700        0.0   \n",
       "2022-08-30  83.779999  83.980003  81.730003  82.790001   8392300        0.0   \n",
       "2022-08-31  84.110001  84.870003  83.059998  83.349998   8887100        0.0   \n",
       "2022-09-01  81.449997  81.830002  80.120003  81.639999  11566000        0.0   \n",
       "2022-09-02  81.550003  82.980003  80.610001  80.900002   8846800        0.0   \n",
       "\n",
       "            Stock Splits  \n",
       "Date                      \n",
       "1999-12-31           0.0  \n",
       "2000-01-03           0.0  \n",
       "2000-01-04           0.0  \n",
       "2000-01-05           0.0  \n",
       "2000-01-06           0.0  \n",
       "...                  ...  \n",
       "2022-08-29           0.0  \n",
       "2022-08-30           0.0  \n",
       "2022-08-31           0.0  \n",
       "2022-09-01           0.0  \n",
       "2022-09-02           0.0  \n",
       "\n",
       "[5706 rows x 7 columns]"
      ]
     },
     "execution_count": 12,
     "metadata": {},
     "output_type": "execute_result"
    }
   ],
   "source": [
    "#define the ticker symbol\n",
    "tickerSymbol = 'TSM'\n",
    "\n",
    "#get data on this ticker\n",
    "tickerData = yf.Ticker(tickerSymbol)\n",
    "\n",
    "#get the historical prices for this ticker\n",
    "dataset = tickerData.history(period='1d', start = '2000-1-1', end = '2022-9-3')\n",
    "\n",
    "#see your data\n",
    "dataset"
   ]
  },
  {
   "cell_type": "code",
   "execution_count": 13,
   "id": "3e8e379c-4af0-451b-aa9a-605b87e7bfa2",
   "metadata": {},
   "outputs": [],
   "source": [
    "dataset['Close'] = dataset['Close'].apply(pd.to_numeric)\n",
    "train_test_split = 0.7\n",
    "\n",
    "sc = MinMaxScaler(feature_range = (0, 1))\n",
    "scaled_target = sc.fit_transform(dataset['Close'].values.reshape(-1, 1))\n",
    "dataset['scaled_target'] = scaled_target\n",
    "\n",
    "training_size = int(len(dataset) * train_test_split)\n",
    "test_size= len(dataset) - training_size\n",
    "\n",
    "dataset_train ,dataset_test = dataset.iloc[0:training_size, :],dataset.iloc[training_size:len(dataset), :]"
   ]
  },
  {
   "cell_type": "code",
   "execution_count": 14,
   "id": "18f1a9d4-00c6-46ee-9750-a9d2e40487f8",
   "metadata": {},
   "outputs": [
    {
     "data": {
      "text/plain": [
       "array([[0.05009731],\n",
       "       [0.05355066],\n",
       "       [0.05400503],\n",
       "       ...,\n",
       "       [0.1190444 ],\n",
       "       [0.11702096],\n",
       "       [0.11493806]])"
      ]
     },
     "execution_count": 14,
     "metadata": {},
     "output_type": "execute_result"
    }
   ],
   "source": [
    "training_set = dataset_train[['scaled_target']].values\n",
    "training_set"
   ]
  },
  {
   "cell_type": "code",
   "execution_count": 15,
   "id": "30357e88-d9d6-45a6-bc82-d96fc5cfd6ab",
   "metadata": {},
   "outputs": [
    {
     "data": {
      "text/plain": [
       "(3994, 1)"
      ]
     },
     "execution_count": 15,
     "metadata": {},
     "output_type": "execute_result"
    }
   ],
   "source": [
    "training_set.shape"
   ]
  },
  {
   "cell_type": "code",
   "execution_count": 16,
   "id": "9eeb90bb-8e65-4013-9392-8ed80698b422",
   "metadata": {},
   "outputs": [
    {
     "data": {
      "image/png": "[encoded data removed]",
      "text/plain": [
       "<Figure size 1296x576 with 1 Axes>"
      ]
     },
     "metadata": {
      "needs_background": "light"
     },
     "output_type": "display_data"
    }
   ],
   "source": [
    "plt.figure(figsize=(18, 8))\n",
    "plt.plot(dataset_train['Close'])\n",
    "plt.title(\"TSMC Stock Close Prices\")\n",
    "plt.xlabel(\"Time (oldest -> latest)\")\n",
    "plt.ylabel(\"Stock Open Price\")\n",
    "plt.show()"
   ]
  },
  {
   "cell_type": "code",
   "execution_count": 17,
   "id": "86e6896f-abee-451c-8dfc-f1384d161d73",
   "metadata": {},
   "outputs": [],
   "source": [
    "## 60 timesteps and 1 output\n",
    "X_train = []\n",
    "y_train = []\n",
    "for i in range(60, len(training_set)):\n",
    "    X_train.append(training_set[i-60: i, 0])\n",
    "    y_train.append(training_set[i, 0])\n",
    "\n",
    "X_train, y_train = np.array(X_train), np.array(y_train)"
   ]
  },
  {
   "cell_type": "code",
   "execution_count": 18,
   "id": "7c6b116a-1b3a-45bc-b78c-191f4f4aac75",
   "metadata": {},
   "outputs": [
    {
     "name": "stdout",
     "output_type": "stream",
     "text": [
      "(3934, 60)\n",
      "(3934,)\n"
     ]
    }
   ],
   "source": [
    "print(X_train.shape)\n",
    "print(y_train.shape)"
   ]
  },
  {
   "cell_type": "code",
   "execution_count": 19,
   "id": "35444d7a-ac10-43ab-86b3-a28d32c28f71",
   "metadata": {},
   "outputs": [],
   "source": [
    "X_train = np.reshape(X_train, newshape = \n",
    "                     (X_train.shape[0], X_train.shape[1], 1))"
   ]
  },
  {
   "cell_type": "code",
   "execution_count": 20,
   "id": "cf8fafc1-0977-4c93-8659-9cc316861de5",
   "metadata": {},
   "outputs": [
    {
     "data": {
      "text/plain": [
       "(3934, 60, 1)"
      ]
     },
     "execution_count": 20,
     "metadata": {},
     "output_type": "execute_result"
    }
   ],
   "source": [
    "X_train.shape"
   ]
  },
  {
   "cell_type": "code",
   "execution_count": 21,
   "id": "d3adaa48-e45d-4b7f-b2d6-76023541d1a6",
   "metadata": {},
   "outputs": [
    {
     "name": "stderr",
     "output_type": "stream",
     "text": [
      "2022-09-05 10:31:43.124609: W tensorflow/stream_executor/platform/default/dso_loader.cc:64] Could not load dynamic library 'libcuda.so.1'; dlerror: libcuda.so.1: cannot open shared object file: No such file or directory\n",
      "2022-09-05 10:31:43.124661: W tensorflow/stream_executor/cuda/cuda_driver.cc:269] failed call to cuInit: UNKNOWN ERROR (303)\n",
      "2022-09-05 10:31:43.124691: I tensorflow/stream_executor/cuda/cuda_diagnostics.cc:156] kernel driver does not appear to be running on this host (runtime-service-stock-prediction-example-67c8484f48-zk9zw): /proc/driver/nvidia/version does not exist\n",
      "2022-09-05 10:31:43.127152: I tensorflow/core/platform/cpu_feature_guard.cc:193] This TensorFlow binary is optimized with oneAPI Deep Neural Network Library (oneDNN) to use the following CPU instructions in performance-critical operations:  AVX2 AVX512F AVX512_VNNI FMA\n",
      "To enable them in other operations, rebuild TensorFlow with the appropriate compiler flags.\n"
     ]
    }
   ],
   "source": [
    "model = Sequential()\n",
    "#add 1st lstm layer\n",
    "model.add(LSTM(units = 50, return_sequences = True, input_shape = (X_train.shape[1], 1)))\n",
    "model.add(Dropout(rate = 0.2))\n",
    "\n",
    "##add 2nd lstm layer: 50 neurons\n",
    "model.add(LSTM(units = 50, return_sequences = True))\n",
    "model.add(Dropout(rate = 0.2))\n",
    "\n",
    "##add 3rd lstm layer\n",
    "model.add(LSTM(units = 50, return_sequences = True))\n",
    "model.add(Dropout(rate = 0.2))\n",
    "\n",
    "##add 4th lstm layer\n",
    "model.add(LSTM(units = 50, return_sequences = False))\n",
    "model.add(Dropout(rate = 0.2))\n",
    "\n",
    "##add output layer\n",
    "model.add(Dense(units = 1))"
   ]
  },
  {
   "cell_type": "code",
   "execution_count": 23,
   "id": "9717b7d6-2098-4a07-a908-028f388e4a7f",
   "metadata": {},
   "outputs": [],
   "source": [
    "model.compile(optimizer = 'adam', loss = 'mean_squared_error', metrics=['mse', 'mae', 'mape'])"
   ]
  },
  {
   "cell_type": "code",
   "execution_count": null,
   "id": "c7c72e45-333c-4436-85cc-d8f12cf1cd2d",
   "metadata": {},
   "outputs": [],
   "source": [
    "model.summary()"
   ]
  },
  {
   "cell_type": "code",
   "execution_count": 24,
   "id": "977028fe-869b-412a-9082-56ea2e64ca55",
   "metadata": {},
   "outputs": [
    {
     "name": "stdout",
     "output_type": "stream",
     "text": [
      "Epoch 1/100\n",
      "83/83 [==============================] - 19s 149ms/step - loss: 8.3530e-05 - mse: 8.3530e-05 - mae: 0.0066 - mape: 9182.2969 - val_loss: 8.0642e-05 - val_mse: 8.0642e-05 - val_mae: 0.0075 - val_mape: 8.8753\n",
      "Epoch 2/100\n",
      "83/83 [==============================] - 10s 123ms/step - loss: 1.9492e-05 - mse: 1.9492e-05 - mae: 0.0034 - mape: 118.4566 - val_loss: 1.9999e-04 - val_mse: 1.9999e-04 - val_mae: 0.0128 - val_mape: 15.6674\n",
      "Epoch 3/100\n",
      "83/83 [==============================] - 11s 128ms/step - loss: 1.7127e-05 - mse: 1.7127e-05 - mae: 0.0031 - mape: 1403.1144 - val_loss: 2.3522e-04 - val_mse: 2.3522e-04 - val_mae: 0.0135 - val_mape: 15.7559\n",
      "Epoch 4/100\n",
      "83/83 [==============================] - 10s 122ms/step - loss: 1.6486e-05 - mse: 1.6486e-05 - mae: 0.0031 - mape: 4081.1809 - val_loss: 5.2866e-05 - val_mse: 5.2866e-05 - val_mae: 0.0061 - val_mape: 7.4719\n",
      "Epoch 5/100\n",
      "83/83 [==============================] - 11s 133ms/step - loss: 1.3651e-05 - mse: 1.3651e-05 - mae: 0.0028 - mape: 2862.7859 - val_loss: 3.3168e-05 - val_mse: 3.3168e-05 - val_mae: 0.0045 - val_mape: 5.2349\n",
      "Epoch 6/100\n",
      "83/83 [==============================] - 11s 132ms/step - loss: 1.3914e-05 - mse: 1.3914e-05 - mae: 0.0028 - mape: 1542.7426 - val_loss: 1.8554e-05 - val_mse: 1.8554e-05 - val_mae: 0.0033 - val_mape: 4.1408\n",
      "Epoch 7/100\n",
      "83/83 [==============================] - 11s 131ms/step - loss: 1.1172e-05 - mse: 1.1172e-05 - mae: 0.0025 - mape: 54.7457 - val_loss: 3.4548e-05 - val_mse: 3.4548e-05 - val_mae: 0.0048 - val_mape: 5.7115\n",
      "Epoch 8/100\n",
      "83/83 [==============================] - 10s 125ms/step - loss: 1.2627e-05 - mse: 1.2627e-05 - mae: 0.0027 - mape: 2417.1672 - val_loss: 2.5181e-05 - val_mse: 2.5181e-05 - val_mae: 0.0039 - val_mape: 4.8582\n",
      "Epoch 9/100\n",
      "83/83 [==============================] - 10s 124ms/step - loss: 1.1520e-05 - mse: 1.1520e-05 - mae: 0.0026 - mape: 2116.5432 - val_loss: 1.3538e-05 - val_mse: 1.3538e-05 - val_mae: 0.0029 - val_mape: 3.6919\n",
      "Epoch 10/100\n",
      "83/83 [==============================] - 10s 120ms/step - loss: 9.5966e-06 - mse: 9.5966e-06 - mae: 0.0023 - mape: 2806.3662 - val_loss: 5.3463e-05 - val_mse: 5.3463e-05 - val_mae: 0.0063 - val_mape: 7.6829\n",
      "Epoch 11/100\n",
      "83/83 [==============================] - 10s 119ms/step - loss: 1.0480e-05 - mse: 1.0480e-05 - mae: 0.0025 - mape: 1283.1635 - val_loss: 4.3842e-05 - val_mse: 4.3842e-05 - val_mae: 0.0056 - val_mape: 6.8292\n",
      "Epoch 12/100\n",
      "83/83 [==============================] - 11s 127ms/step - loss: 9.4070e-06 - mse: 9.4070e-06 - mae: 0.0023 - mape: 1059.7141 - val_loss: 7.7818e-05 - val_mse: 7.7818e-05 - val_mae: 0.0078 - val_mape: 9.3665\n",
      "Epoch 13/100\n",
      "83/83 [==============================] - 10s 122ms/step - loss: 1.0282e-05 - mse: 1.0282e-05 - mae: 0.0024 - mape: 1415.6720 - val_loss: 1.6719e-05 - val_mse: 1.6719e-05 - val_mae: 0.0031 - val_mape: 3.6661\n",
      "Epoch 14/100\n",
      "83/83 [==============================] - 10s 121ms/step - loss: 8.9302e-06 - mse: 8.9302e-06 - mae: 0.0023 - mape: 2795.2366 - val_loss: 3.0536e-05 - val_mse: 3.0536e-05 - val_mae: 0.0045 - val_mape: 5.5030\n",
      "Epoch 15/100\n",
      "83/83 [==============================] - 10s 117ms/step - loss: 9.2127e-06 - mse: 9.2127e-06 - mae: 0.0023 - mape: 1796.0961 - val_loss: 1.0146e-04 - val_mse: 1.0146e-04 - val_mae: 0.0088 - val_mape: 10.2743\n",
      "Epoch 16/100\n",
      "83/83 [==============================] - 10s 125ms/step - loss: 9.2686e-06 - mse: 9.2686e-06 - mae: 0.0023 - mape: 3365.8091 - val_loss: 7.4101e-05 - val_mse: 7.4101e-05 - val_mae: 0.0078 - val_mape: 9.6376\n",
      "Epoch 17/100\n",
      "83/83 [==============================] - 11s 130ms/step - loss: 8.7530e-06 - mse: 8.7530e-06 - mae: 0.0022 - mape: 2298.2593 - val_loss: 6.7937e-05 - val_mse: 6.7937e-05 - val_mae: 0.0073 - val_mape: 8.9609\n",
      "Epoch 18/100\n",
      "83/83 [==============================] - 10s 123ms/step - loss: 9.1595e-06 - mse: 9.1595e-06 - mae: 0.0023 - mape: 1598.0167 - val_loss: 2.3988e-05 - val_mse: 2.3988e-05 - val_mae: 0.0040 - val_mape: 5.0101\n",
      "Epoch 19/100\n",
      "83/83 [==============================] - 10s 126ms/step - loss: 8.8365e-06 - mse: 8.8365e-06 - mae: 0.0022 - mape: 409.1234 - val_loss: 2.8558e-05 - val_mse: 2.8558e-05 - val_mae: 0.0044 - val_mape: 5.5188\n",
      "Epoch 20/100\n",
      "83/83 [==============================] - 12s 143ms/step - loss: 8.0388e-06 - mse: 8.0388e-06 - mae: 0.0021 - mape: 1910.4456 - val_loss: 5.4325e-05 - val_mse: 5.4325e-05 - val_mae: 0.0064 - val_mape: 7.7004\n",
      "Epoch 21/100\n",
      "83/83 [==============================] - 12s 142ms/step - loss: 8.2293e-06 - mse: 8.2293e-06 - mae: 0.0022 - mape: 2566.3892 - val_loss: 8.4859e-05 - val_mse: 8.4859e-05 - val_mae: 0.0084 - val_mape: 10.4238\n",
      "Epoch 22/100\n",
      "83/83 [==============================] - 10s 121ms/step - loss: 1.1339e-05 - mse: 1.1339e-05 - mae: 0.0026 - mape: 2401.4629 - val_loss: 8.8555e-05 - val_mse: 8.8555e-05 - val_mae: 0.0084 - val_mape: 10.1312\n",
      "Epoch 23/100\n",
      "83/83 [==============================] - 10s 121ms/step - loss: 9.0013e-06 - mse: 9.0013e-06 - mae: 0.0022 - mape: 1253.1395 - val_loss: 1.6845e-04 - val_mse: 1.6845e-04 - val_mae: 0.0114 - val_mape: 13.2016\n",
      "Epoch 24/100\n",
      "83/83 [==============================] - 10s 123ms/step - loss: 8.1147e-06 - mse: 8.1147e-06 - mae: 0.0021 - mape: 1662.9877 - val_loss: 6.0133e-05 - val_mse: 6.0133e-05 - val_mae: 0.0068 - val_mape: 8.0688\n",
      "Epoch 25/100\n",
      "83/83 [==============================] - 10s 122ms/step - loss: 7.3513e-06 - mse: 7.3513e-06 - mae: 0.0020 - mape: 1707.9363 - val_loss: 7.1497e-05 - val_mse: 7.1497e-05 - val_mae: 0.0076 - val_mape: 9.1889\n",
      "Epoch 26/100\n",
      "83/83 [==============================] - 10s 121ms/step - loss: 7.6259e-06 - mse: 7.6259e-06 - mae: 0.0021 - mape: 607.1144 - val_loss: 2.2314e-05 - val_mse: 2.2314e-05 - val_mae: 0.0038 - val_mape: 4.4154\n",
      "Epoch 27/100\n",
      "83/83 [==============================] - 11s 131ms/step - loss: 6.6885e-06 - mse: 6.6885e-06 - mae: 0.0019 - mape: 1871.2133 - val_loss: 5.1392e-05 - val_mse: 5.1392e-05 - val_mae: 0.0061 - val_mape: 7.1005\n",
      "Epoch 28/100\n",
      "83/83 [==============================] - 10s 121ms/step - loss: 6.8601e-06 - mse: 6.8601e-06 - mae: 0.0020 - mape: 989.2811 - val_loss: 6.6179e-06 - val_mse: 6.6179e-06 - val_mae: 0.0019 - val_mape: 2.4877\n",
      "Epoch 29/100\n",
      "83/83 [==============================] - 10s 119ms/step - loss: 6.4955e-06 - mse: 6.4955e-06 - mae: 0.0020 - mape: 1194.0962 - val_loss: 9.0598e-05 - val_mse: 9.0598e-05 - val_mae: 0.0085 - val_mape: 10.2448\n",
      "Epoch 30/100\n",
      "83/83 [==============================] - 10s 119ms/step - loss: 7.2329e-06 - mse: 7.2329e-06 - mae: 0.0020 - mape: 759.8855 - val_loss: 4.6817e-05 - val_mse: 4.6817e-05 - val_mae: 0.0059 - val_mape: 7.0649\n",
      "Epoch 31/100\n",
      "83/83 [==============================] - 10s 123ms/step - loss: 6.0625e-06 - mse: 6.0625e-06 - mae: 0.0019 - mape: 1592.9736 - val_loss: 6.2110e-06 - val_mse: 6.2110e-06 - val_mae: 0.0018 - val_mape: 2.3695\n",
      "Epoch 32/100\n",
      "83/83 [==============================] - 10s 126ms/step - loss: 6.2870e-06 - mse: 6.2870e-06 - mae: 0.0019 - mape: 475.2359 - val_loss: 1.8528e-05 - val_mse: 1.8528e-05 - val_mae: 0.0034 - val_mape: 3.9890\n",
      "Epoch 33/100\n",
      "83/83 [==============================] - 10s 117ms/step - loss: 7.0972e-06 - mse: 7.0972e-06 - mae: 0.0020 - mape: 1399.5200 - val_loss: 2.9069e-05 - val_mse: 2.9069e-05 - val_mae: 0.0046 - val_mape: 5.5076\n",
      "Epoch 34/100\n",
      "83/83 [==============================] - 10s 123ms/step - loss: 6.7798e-06 - mse: 6.7798e-06 - mae: 0.0020 - mape: 722.5891 - val_loss: 7.8402e-06 - val_mse: 7.8402e-06 - val_mae: 0.0021 - val_mape: 2.6165\n",
      "Epoch 35/100\n",
      "83/83 [==============================] - 10s 116ms/step - loss: 6.7607e-06 - mse: 6.7607e-06 - mae: 0.0020 - mape: 180.4955 - val_loss: 1.7488e-05 - val_mse: 1.7488e-05 - val_mae: 0.0032 - val_mape: 3.6401\n",
      "Epoch 36/100\n",
      "83/83 [==============================] - 10s 121ms/step - loss: 6.4974e-06 - mse: 6.4974e-06 - mae: 0.0019 - mape: 519.4659 - val_loss: 5.8245e-05 - val_mse: 5.8245e-05 - val_mae: 0.0067 - val_mape: 8.0794\n",
      "Epoch 37/100\n",
      "83/83 [==============================] - 10s 118ms/step - loss: 6.2110e-06 - mse: 6.2110e-06 - mae: 0.0019 - mape: 641.3663 - val_loss: 2.5212e-05 - val_mse: 2.5212e-05 - val_mae: 0.0043 - val_mape: 5.2653\n",
      "Epoch 38/100\n",
      "83/83 [==============================] - 10s 120ms/step - loss: 5.9631e-06 - mse: 5.9631e-06 - mae: 0.0018 - mape: 1277.7845 - val_loss: 1.4525e-05 - val_mse: 1.4525e-05 - val_mae: 0.0030 - val_mape: 3.5685\n",
      "Epoch 39/100\n",
      "83/83 [==============================] - 10s 115ms/step - loss: 5.9849e-06 - mse: 5.9849e-06 - mae: 0.0018 - mape: 1818.4811 - val_loss: 1.1754e-05 - val_mse: 1.1754e-05 - val_mae: 0.0026 - val_mape: 3.0108\n",
      "Epoch 40/100\n",
      "83/83 [==============================] - 10s 119ms/step - loss: 6.8930e-06 - mse: 6.8930e-06 - mae: 0.0020 - mape: 1515.5162 - val_loss: 2.9721e-05 - val_mse: 2.9721e-05 - val_mae: 0.0044 - val_mape: 5.0663\n",
      "Epoch 41/100\n",
      "83/83 [==============================] - 10s 117ms/step - loss: 5.9949e-06 - mse: 5.9949e-06 - mae: 0.0019 - mape: 987.3328 - val_loss: 2.0055e-05 - val_mse: 2.0055e-05 - val_mae: 0.0036 - val_mape: 4.3001\n",
      "Epoch 42/100\n",
      "83/83 [==============================] - 10s 123ms/step - loss: 6.2291e-06 - mse: 6.2291e-06 - mae: 0.0019 - mape: 2186.5950 - val_loss: 3.9825e-05 - val_mse: 3.9825e-05 - val_mae: 0.0055 - val_mape: 6.4809\n",
      "Epoch 43/100\n",
      "83/83 [==============================] - 10s 118ms/step - loss: 6.0028e-06 - mse: 6.0028e-06 - mae: 0.0018 - mape: 1732.0887 - val_loss: 6.3011e-06 - val_mse: 6.3011e-06 - val_mae: 0.0019 - val_mape: 2.3032\n",
      "Epoch 44/100\n",
      "83/83 [==============================] - 10s 119ms/step - loss: 5.6502e-06 - mse: 5.6502e-06 - mae: 0.0018 - mape: 1208.0128 - val_loss: 2.0185e-05 - val_mse: 2.0185e-05 - val_mae: 0.0036 - val_mape: 4.1125\n",
      "Epoch 45/100\n",
      "83/83 [==============================] - 10s 121ms/step - loss: 6.0925e-06 - mse: 6.0925e-06 - mae: 0.0019 - mape: 545.9552 - val_loss: 1.3210e-05 - val_mse: 1.3210e-05 - val_mae: 0.0029 - val_mape: 3.5219\n",
      "Epoch 46/100\n",
      "83/83 [==============================] - 10s 119ms/step - loss: 5.4998e-06 - mse: 5.4998e-06 - mae: 0.0017 - mape: 1098.4067 - val_loss: 1.3360e-05 - val_mse: 1.3360e-05 - val_mae: 0.0028 - val_mape: 3.3017\n",
      "Epoch 47/100\n",
      "83/83 [==============================] - 10s 123ms/step - loss: 5.6845e-06 - mse: 5.6845e-06 - mae: 0.0018 - mape: 290.1031 - val_loss: 1.1625e-05 - val_mse: 1.1625e-05 - val_mae: 0.0027 - val_mape: 3.2854\n",
      "Epoch 48/100\n",
      "83/83 [==============================] - 10s 117ms/step - loss: 5.7900e-06 - mse: 5.7900e-06 - mae: 0.0018 - mape: 1261.9263 - val_loss: 4.7055e-05 - val_mse: 4.7055e-05 - val_mae: 0.0060 - val_mape: 7.1386\n",
      "Epoch 49/100\n",
      "83/83 [==============================] - 10s 120ms/step - loss: 6.0256e-06 - mse: 6.0256e-06 - mae: 0.0018 - mape: 2177.5217 - val_loss: 7.3922e-06 - val_mse: 7.3922e-06 - val_mae: 0.0021 - val_mape: 2.6484\n",
      "Epoch 50/100\n",
      "83/83 [==============================] - 10s 117ms/step - loss: 6.3130e-06 - mse: 6.3130e-06 - mae: 0.0019 - mape: 2038.3452 - val_loss: 3.5252e-05 - val_mse: 3.5252e-05 - val_mae: 0.0048 - val_mape: 5.3747\n",
      "Epoch 51/100\n",
      "83/83 [==============================] - 10s 120ms/step - loss: 6.0012e-06 - mse: 6.0012e-06 - mae: 0.0018 - mape: 365.9052 - val_loss: 1.8815e-05 - val_mse: 1.8815e-05 - val_mae: 0.0035 - val_mape: 4.1136\n",
      "Epoch 52/100\n",
      "83/83 [==============================] - 10s 120ms/step - loss: 5.3093e-06 - mse: 5.3093e-06 - mae: 0.0017 - mape: 229.3919 - val_loss: 9.6014e-06 - val_mse: 9.6014e-06 - val_mae: 0.0024 - val_mape: 2.8717\n",
      "Epoch 53/100\n",
      "83/83 [==============================] - 10s 116ms/step - loss: 5.7222e-06 - mse: 5.7222e-06 - mae: 0.0018 - mape: 1869.9496 - val_loss: 8.0040e-06 - val_mse: 8.0040e-06 - val_mae: 0.0022 - val_mape: 2.7163\n",
      "Epoch 54/100\n",
      "83/83 [==============================] - 10s 122ms/step - loss: 5.3236e-06 - mse: 5.3236e-06 - mae: 0.0017 - mape: 865.9771 - val_loss: 4.1958e-05 - val_mse: 4.1958e-05 - val_mae: 0.0057 - val_mape: 6.8827\n",
      "Epoch 55/100\n",
      "83/83 [==============================] - 10s 120ms/step - loss: 5.4738e-06 - mse: 5.4738e-06 - mae: 0.0018 - mape: 553.2056 - val_loss: 1.4101e-05 - val_mse: 1.4101e-05 - val_mae: 0.0029 - val_mape: 3.2701\n",
      "Epoch 56/100\n",
      "83/83 [==============================] - 10s 117ms/step - loss: 5.2092e-06 - mse: 5.2092e-06 - mae: 0.0017 - mape: 1589.8003 - val_loss: 2.3290e-05 - val_mse: 2.3290e-05 - val_mae: 0.0039 - val_mape: 4.4174\n",
      "Epoch 57/100\n",
      "83/83 [==============================] - 10s 126ms/step - loss: 5.1010e-06 - mse: 5.1010e-06 - mae: 0.0017 - mape: 844.2518 - val_loss: 2.4860e-05 - val_mse: 2.4860e-05 - val_mae: 0.0042 - val_mape: 4.8586\n",
      "Epoch 58/100\n",
      "83/83 [==============================] - 10s 123ms/step - loss: 5.5983e-06 - mse: 5.5983e-06 - mae: 0.0018 - mape: 859.5203 - val_loss: 5.4409e-06 - val_mse: 5.4409e-06 - val_mae: 0.0018 - val_mape: 2.2549\n",
      "Epoch 59/100\n",
      "83/83 [==============================] - 10s 122ms/step - loss: 5.0086e-06 - mse: 5.0086e-06 - mae: 0.0017 - mape: 637.4188 - val_loss: 4.1232e-05 - val_mse: 4.1232e-05 - val_mae: 0.0057 - val_mape: 6.9946\n",
      "Epoch 60/100\n",
      "83/83 [==============================] - 10s 119ms/step - loss: 4.9392e-06 - mse: 4.9392e-06 - mae: 0.0017 - mape: 954.5238 - val_loss: 1.2516e-05 - val_mse: 1.2516e-05 - val_mae: 0.0028 - val_mape: 3.3628\n",
      "Epoch 61/100\n",
      "83/83 [==============================] - 11s 131ms/step - loss: 5.2598e-06 - mse: 5.2598e-06 - mae: 0.0017 - mape: 46.2485 - val_loss: 4.0192e-06 - val_mse: 4.0192e-06 - val_mae: 0.0015 - val_mape: 1.9527\n",
      "Epoch 62/100\n",
      "83/83 [==============================] - 11s 134ms/step - loss: 5.1027e-06 - mse: 5.1027e-06 - mae: 0.0017 - mape: 1623.7440 - val_loss: 4.7980e-05 - val_mse: 4.7980e-05 - val_mae: 0.0062 - val_mape: 7.3879\n",
      "Epoch 63/100\n",
      "83/83 [==============================] - 11s 128ms/step - loss: 5.2125e-06 - mse: 5.2125e-06 - mae: 0.0017 - mape: 777.6278 - val_loss: 7.7533e-06 - val_mse: 7.7533e-06 - val_mae: 0.0022 - val_mape: 2.7725\n",
      "Epoch 64/100\n",
      "83/83 [==============================] - 11s 129ms/step - loss: 4.5758e-06 - mse: 4.5758e-06 - mae: 0.0016 - mape: 1454.1719 - val_loss: 1.8101e-05 - val_mse: 1.8101e-05 - val_mae: 0.0035 - val_mape: 4.0351\n",
      "Epoch 65/100\n",
      "83/83 [==============================] - 10s 123ms/step - loss: 5.2922e-06 - mse: 5.2922e-06 - mae: 0.0017 - mape: 1032.4939 - val_loss: 5.1588e-06 - val_mse: 5.1588e-06 - val_mae: 0.0017 - val_mape: 2.1872\n",
      "Epoch 66/100\n",
      "83/83 [==============================] - 11s 129ms/step - loss: 4.9616e-06 - mse: 4.9616e-06 - mae: 0.0016 - mape: 1194.3770 - val_loss: 1.1590e-05 - val_mse: 1.1590e-05 - val_mae: 0.0027 - val_mape: 3.1130\n",
      "Epoch 67/100\n",
      "83/83 [==============================] - 11s 127ms/step - loss: 4.9593e-06 - mse: 4.9593e-06 - mae: 0.0016 - mape: 2327.5659 - val_loss: 8.2552e-05 - val_mse: 8.2552e-05 - val_mae: 0.0081 - val_mape: 9.4960\n",
      "Epoch 68/100\n",
      "83/83 [==============================] - 10s 126ms/step - loss: 4.6002e-06 - mse: 4.6002e-06 - mae: 0.0016 - mape: 921.4622 - val_loss: 1.0638e-05 - val_mse: 1.0638e-05 - val_mae: 0.0025 - val_mape: 2.8517\n",
      "Epoch 69/100\n",
      "83/83 [==============================] - 10s 123ms/step - loss: 4.4867e-06 - mse: 4.4867e-06 - mae: 0.0016 - mape: 974.3137 - val_loss: 1.3060e-05 - val_mse: 1.3060e-05 - val_mae: 0.0029 - val_mape: 3.3392\n",
      "Epoch 70/100\n",
      "83/83 [==============================] - 11s 128ms/step - loss: 4.8299e-06 - mse: 4.8299e-06 - mae: 0.0016 - mape: 459.1809 - val_loss: 5.4650e-06 - val_mse: 5.4650e-06 - val_mae: 0.0018 - val_mape: 2.4226\n",
      "Epoch 71/100\n",
      "83/83 [==============================] - 10s 126ms/step - loss: 5.2867e-06 - mse: 5.2867e-06 - mae: 0.0017 - mape: 1103.1753 - val_loss: 4.4619e-06 - val_mse: 4.4619e-06 - val_mae: 0.0016 - val_mape: 2.0132\n",
      "Epoch 72/100\n",
      "83/83 [==============================] - 10s 123ms/step - loss: 4.6170e-06 - mse: 4.6170e-06 - mae: 0.0016 - mape: 821.3258 - val_loss: 6.0118e-05 - val_mse: 6.0118e-05 - val_mae: 0.0068 - val_mape: 8.0073\n",
      "Epoch 73/100\n",
      "83/83 [==============================] - 10s 124ms/step - loss: 4.7585e-06 - mse: 4.7585e-06 - mae: 0.0016 - mape: 1165.0709 - val_loss: 1.0412e-05 - val_mse: 1.0412e-05 - val_mae: 0.0025 - val_mape: 2.9661\n",
      "Epoch 74/100\n",
      "83/83 [==============================] - 11s 132ms/step - loss: 4.2634e-06 - mse: 4.2634e-06 - mae: 0.0015 - mape: 186.8077 - val_loss: 9.8944e-06 - val_mse: 9.8944e-06 - val_mae: 0.0027 - val_mape: 3.7080\n",
      "Epoch 75/100\n",
      "83/83 [==============================] - 11s 132ms/step - loss: 4.9185e-06 - mse: 4.9185e-06 - mae: 0.0017 - mape: 838.5571 - val_loss: 1.5817e-05 - val_mse: 1.5817e-05 - val_mae: 0.0032 - val_mape: 3.7015\n",
      "Epoch 76/100\n",
      "83/83 [==============================] - 10s 124ms/step - loss: 4.8822e-06 - mse: 4.8822e-06 - mae: 0.0017 - mape: 1319.7494 - val_loss: 1.2292e-05 - val_mse: 1.2292e-05 - val_mae: 0.0028 - val_mape: 3.2901\n",
      "Epoch 77/100\n",
      "83/83 [==============================] - 10s 122ms/step - loss: 4.3377e-06 - mse: 4.3377e-06 - mae: 0.0015 - mape: 1369.0524 - val_loss: 3.3530e-05 - val_mse: 3.3530e-05 - val_mae: 0.0051 - val_mape: 6.0956\n",
      "Epoch 78/100\n",
      "83/83 [==============================] - 10s 121ms/step - loss: 4.3381e-06 - mse: 4.3381e-06 - mae: 0.0016 - mape: 1860.3911 - val_loss: 1.0739e-05 - val_mse: 1.0739e-05 - val_mae: 0.0025 - val_mape: 2.9232\n",
      "Epoch 79/100\n",
      "83/83 [==============================] - 10s 120ms/step - loss: 3.9499e-06 - mse: 3.9499e-06 - mae: 0.0015 - mape: 255.2215 - val_loss: 2.5508e-05 - val_mse: 2.5508e-05 - val_mae: 0.0044 - val_mape: 5.2518\n",
      "Epoch 80/100\n",
      "83/83 [==============================] - 10s 123ms/step - loss: 4.3660e-06 - mse: 4.3660e-06 - mae: 0.0016 - mape: 556.3551 - val_loss: 1.9010e-05 - val_mse: 1.9010e-05 - val_mae: 0.0036 - val_mape: 4.1101\n",
      "Epoch 81/100\n",
      "83/83 [==============================] - 11s 128ms/step - loss: 4.3281e-06 - mse: 4.3281e-06 - mae: 0.0016 - mape: 2094.9719 - val_loss: 8.7435e-06 - val_mse: 8.7435e-06 - val_mae: 0.0022 - val_mape: 2.6003\n",
      "Epoch 82/100\n",
      "83/83 [==============================] - 10s 123ms/step - loss: 4.3975e-06 - mse: 4.3975e-06 - mae: 0.0016 - mape: 910.9415 - val_loss: 3.2367e-05 - val_mse: 3.2367e-05 - val_mae: 0.0048 - val_mape: 5.5709\n",
      "Epoch 83/100\n",
      "83/83 [==============================] - 11s 134ms/step - loss: 4.0919e-06 - mse: 4.0919e-06 - mae: 0.0015 - mape: 1285.2660 - val_loss: 1.7785e-05 - val_mse: 1.7785e-05 - val_mae: 0.0035 - val_mape: 4.1943\n",
      "Epoch 84/100\n",
      "83/83 [==============================] - 11s 131ms/step - loss: 4.9207e-06 - mse: 4.9207e-06 - mae: 0.0016 - mape: 267.9099 - val_loss: 5.8260e-05 - val_mse: 5.8260e-05 - val_mae: 0.0068 - val_mape: 8.0318\n",
      "Epoch 85/100\n",
      "83/83 [==============================] - 10s 117ms/step - loss: 4.7348e-06 - mse: 4.7348e-06 - mae: 0.0017 - mape: 190.6030 - val_loss: 3.1964e-05 - val_mse: 3.1964e-05 - val_mae: 0.0049 - val_mape: 5.8698\n",
      "Epoch 86/100\n",
      "83/83 [==============================] - 10s 120ms/step - loss: 4.8242e-06 - mse: 4.8242e-06 - mae: 0.0017 - mape: 638.9052 - val_loss: 3.3444e-05 - val_mse: 3.3444e-05 - val_mae: 0.0051 - val_mape: 6.0848\n",
      "Epoch 87/100\n",
      "83/83 [==============================] - 11s 129ms/step - loss: 4.1723e-06 - mse: 4.1723e-06 - mae: 0.0015 - mape: 1843.6344 - val_loss: 1.1498e-05 - val_mse: 1.1498e-05 - val_mae: 0.0026 - val_mape: 3.0028\n",
      "Epoch 88/100\n",
      "83/83 [==============================] - 10s 124ms/step - loss: 4.0283e-06 - mse: 4.0283e-06 - mae: 0.0015 - mape: 12.3499 - val_loss: 3.6463e-06 - val_mse: 3.6463e-06 - val_mae: 0.0014 - val_mape: 1.8036\n",
      "Epoch 89/100\n",
      "83/83 [==============================] - 10s 124ms/step - loss: 3.9543e-06 - mse: 3.9543e-06 - mae: 0.0015 - mape: 1785.4879 - val_loss: 4.1048e-05 - val_mse: 4.1048e-05 - val_mae: 0.0055 - val_mape: 6.3393\n",
      "Epoch 90/100\n",
      "83/83 [==============================] - 10s 122ms/step - loss: 4.5117e-06 - mse: 4.5117e-06 - mae: 0.0016 - mape: 540.9318 - val_loss: 3.2570e-06 - val_mse: 3.2570e-06 - val_mae: 0.0013 - val_mape: 1.7309\n",
      "Epoch 91/100\n",
      "83/83 [==============================] - 10s 121ms/step - loss: 4.0767e-06 - mse: 4.0767e-06 - mae: 0.0015 - mape: 1377.1581 - val_loss: 2.0289e-05 - val_mse: 2.0289e-05 - val_mae: 0.0039 - val_mape: 4.7629\n",
      "Epoch 92/100\n",
      "83/83 [==============================] - 10s 121ms/step - loss: 4.0125e-06 - mse: 4.0125e-06 - mae: 0.0015 - mape: 10.3770 - val_loss: 5.2475e-06 - val_mse: 5.2475e-06 - val_mae: 0.0017 - val_mape: 2.0556\n",
      "Epoch 93/100\n",
      "83/83 [==============================] - 10s 119ms/step - loss: 3.8420e-06 - mse: 3.8420e-06 - mae: 0.0014 - mape: 847.5575 - val_loss: 6.6973e-06 - val_mse: 6.6973e-06 - val_mae: 0.0020 - val_mape: 2.3104\n",
      "Epoch 94/100\n",
      "83/83 [==============================] - 10s 120ms/step - loss: 3.7583e-06 - mse: 3.7583e-06 - mae: 0.0014 - mape: 341.2461 - val_loss: 4.0029e-05 - val_mse: 4.0029e-05 - val_mae: 0.0056 - val_mape: 6.5995\n",
      "Epoch 95/100\n",
      "83/83 [==============================] - 10s 121ms/step - loss: 4.2821e-06 - mse: 4.2821e-06 - mae: 0.0015 - mape: 1270.2317 - val_loss: 1.0118e-05 - val_mse: 1.0118e-05 - val_mae: 0.0026 - val_mape: 3.2503\n",
      "Epoch 96/100\n",
      "83/83 [==============================] - 10s 119ms/step - loss: 4.7161e-06 - mse: 4.7161e-06 - mae: 0.0016 - mape: 1194.6364 - val_loss: 7.5281e-05 - val_mse: 7.5281e-05 - val_mae: 0.0079 - val_mape: 9.4685\n",
      "Epoch 97/100\n",
      "83/83 [==============================] - 10s 115ms/step - loss: 5.0431e-06 - mse: 5.0431e-06 - mae: 0.0017 - mape: 279.4456 - val_loss: 1.8658e-05 - val_mse: 1.8658e-05 - val_mae: 0.0034 - val_mape: 3.7773\n",
      "Epoch 98/100\n",
      "83/83 [==============================] - 10s 125ms/step - loss: 4.0405e-06 - mse: 4.0405e-06 - mae: 0.0015 - mape: 156.7621 - val_loss: 4.0648e-05 - val_mse: 4.0648e-05 - val_mae: 0.0055 - val_mape: 6.3473\n",
      "Epoch 99/100\n",
      "83/83 [==============================] - 10s 120ms/step - loss: 3.8295e-06 - mse: 3.8295e-06 - mae: 0.0015 - mape: 572.5410 - val_loss: 8.0444e-05 - val_mse: 8.0444e-05 - val_mae: 0.0081 - val_mape: 9.6084\n",
      "Epoch 100/100\n",
      "83/83 [==============================] - 10s 120ms/step - loss: 3.9310e-06 - mse: 3.9310e-06 - mae: 0.0015 - mape: 2177.4775 - val_loss: 2.0127e-05 - val_mse: 2.0127e-05 - val_mae: 0.0039 - val_mape: 4.6640\n"
     ]
    }
   ],
   "source": [
    "lstm_model = model.fit(x = X_train, y = y_train, batch_size = 32, epochs = 100, validation_split = 0.33)"
   ]
  },
  {
   "cell_type": "code",
   "execution_count": 25,
   "id": "93ca452d-2a6f-471a-b74b-8669814d2df9",
   "metadata": {},
   "outputs": [
    {
     "data": {
      "text/plain": [
       "(1712, 1)"
      ]
     },
     "execution_count": 25,
     "metadata": {},
     "output_type": "execute_result"
    }
   ],
   "source": [
    "testing_set = dataset_test[['Close']].values\n",
    "testing_set.shape"
   ]
  },
  {
   "cell_type": "code",
   "execution_count": 26,
   "id": "c6b151ae-1e16-4f83-be19-197f1da45150",
   "metadata": {},
   "outputs": [
    {
     "data": {
      "text/plain": [
       "array([0.09702489, 0.09631076, 0.09631076, ..., 0.59240187, 0.57993362,\n",
       "       0.57453802])"
      ]
     },
     "execution_count": 26,
     "metadata": {},
     "output_type": "execute_result"
    }
   ],
   "source": [
    "#vertical concat use 0, horizontal uses 1\n",
    "dataset_total = pd.concat((dataset_train['scaled_target'], dataset_test['scaled_target']), \n",
    "                          axis = 0)\n",
    "##use .values to make numpy array\n",
    "inputs = dataset_total[len(dataset_total) - len(dataset_test) - 60:].values\n",
    "inputs"
   ]
  },
  {
   "cell_type": "code",
   "execution_count": 27,
   "id": "ad5fbb5f-a404-4f21-b6f6-d6e7bc11c8dc",
   "metadata": {},
   "outputs": [],
   "source": [
    "#reshape data to only have 1 col\n",
    "inputs = inputs.reshape(-1, 1)"
   ]
  },
  {
   "cell_type": "code",
   "execution_count": 28,
   "id": "827cc35b-12bc-47b4-a354-6600614db759",
   "metadata": {},
   "outputs": [],
   "source": [
    "X_test = []\n",
    "for i in range(60, len(inputs)):\n",
    "    X_test.append(inputs[i-60:i, 0])\n",
    "X_test = np.array(X_test)\n",
    "#add dimension of indicator\n",
    "X_test = np.reshape(X_test, (X_test.shape[0], X_test.shape[1], 1))"
   ]
  },
  {
   "cell_type": "code",
   "execution_count": 29,
   "id": "d7f461c9-1060-46b3-9875-7fc5696fc7e1",
   "metadata": {},
   "outputs": [
    {
     "data": {
      "text/plain": [
       "(1712, 60, 1)"
      ]
     },
     "execution_count": 29,
     "metadata": {},
     "output_type": "execute_result"
    }
   ],
   "source": [
    "X_test.shape"
   ]
  },
  {
   "cell_type": "code",
   "execution_count": 30,
   "id": "4f3c7532-40c2-485e-8795-3405471ad098",
   "metadata": {},
   "outputs": [
    {
     "name": "stdout",
     "output_type": "stream",
     "text": [
      "54/54 [==============================] - 4s 29ms/step\n"
     ]
    }
   ],
   "source": [
    "predicted_stock_price = model.predict(X_test)"
   ]
  },
  {
   "cell_type": "code",
   "execution_count": 31,
   "id": "052775d8-9451-489e-9533-d9caebd261d2",
   "metadata": {},
   "outputs": [],
   "source": [
    "#inverse the scaled value\n",
    "predicted_stock_price = sc.inverse_transform(predicted_stock_price)"
   ]
  },
  {
   "cell_type": "code",
   "execution_count": 32,
   "id": "fbe1f6ee-8ea2-4cd7-a41a-e60831472caf",
   "metadata": {},
   "outputs": [
    {
     "data": {
      "text/plain": [
       "array([[17.193121],\n",
       "       [17.270208],\n",
       "       [17.429926],\n",
       "       ...,\n",
       "       [62.877396],\n",
       "       [62.857388],\n",
       "       [62.524403]], dtype=float32)"
      ]
     },
     "execution_count": 32,
     "metadata": {},
     "output_type": "execute_result"
    }
   ],
   "source": [
    "predicted_stock_price"
   ]
  },
  {
   "cell_type": "code",
   "execution_count": 33,
   "id": "800d34b1-de18-42cf-ad2f-5eab24c03ab9",
   "metadata": {},
   "outputs": [
    {
     "data": {
      "image/png": "[encoded data removed]",
      "text/plain": [
       "<Figure size 432x288 with 1 Axes>"
      ]
     },
     "metadata": {
      "needs_background": "light"
     },
     "output_type": "display_data"
    }
   ],
   "source": [
    "##visualize the prediction and real price\n",
    "plt.plot(testing_set, color = 'red', label = 'Real price')\n",
    "plt.plot(predicted_stock_price, color = 'blue', label = 'Predicted price')\n",
    "\n",
    "plt.title('TSMC price prediction')\n",
    "plt.xlabel('Time')\n",
    "plt.ylabel('Price')\n",
    "plt.legend()\n",
    "plt.show()"
   ]
  },
  {
   "cell_type": "code",
   "execution_count": null,
   "id": "13c4304c-b075-4f2f-82d7-e58b60760a7a",
   "metadata": {},
   "outputs": [],
   "source": []
  },
  {
   "cell_type": "code",
   "execution_count": null,
   "id": "f39977f5-dc63-4f30-9dd2-f49e019fd9e7",
   "metadata": {},
   "outputs": [],
   "source": [
    "# need to get filling information from AI Maker(beta) > mlflow tracking\n",
    "os.environ[\"AWS_ACCESS_KEY_ID\"] = \"{}\" # need to fill\n",
    "os.environ[\"AWS_SECRET_ACCESS_KEY\"] = \"{}\" # need to fill\n",
    "os.environ[\"MLFLOW_S3_ENDPOINT_URL\"] = \"https://cloudstorage.oneai.twcc.ai\"\n",
    "os.environ[\"MLFLOW_TRACKING_URI\"] = \"{}\" # need to fill"
   ]
  },
  {
   "cell_type": "code",
   "execution_count": null,
   "id": "cab0e575-7e14-463d-a2e7-939c324b6bcc",
   "metadata": {},
   "outputs": [],
   "source": [
    "with mlflow.start_run():\n",
    "    model.compile(optimizer = 'adam', loss = 'mean_squared_error', metrics=['mse', 'mae', 'mape'])\n",
    "    mlflow.keras.autolog()\n",
    "    lstm_model = model.fit(x = X_train, y = y_train, batch_size = 32, epochs = 100, validation_split = 0.33)\n",
    "\n",
    "    mlflow.log_param(\"epochs\", 100)\n",
    "    mlflow.log_param(\"batch_size\", 32)\n",
    "    \n",
    "    mlflow.set_tag(\"company\", \"TSMC\")\n",
    "\n",
    "    mlflow.keras.log_model(model, \"models\")"
   ]
  }
 ],
 "metadata": {
  "kernelspec": {
   "display_name": "Python 3 (ipykernel)",
   "language": "python",
   "name": "python3"
  },
  "language_info": {
   "codemirror_mode": {
    "name": "ipython",
    "version": 3
   },
   "file_extension": ".py",
   "mimetype": "text/x-python",
   "name": "python",
   "nbconvert_exporter": "python",
   "pygments_lexer": "ipython3",
   "version": "3.9.7"
  }
 },
 "nbformat": 4,
 "nbformat_minor": 5
}
